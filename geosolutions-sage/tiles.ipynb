{
 "cells": [
  {
   "cell_type": "code",
   "execution_count": 9,
   "metadata": {},
   "outputs": [],
   "source": [
    "%matplotlib inline\n",
    "\n",
    "import geopandas\n",
    "tilegrids = geopandas.read_file(\"data/LAS_tile_grids.geojson\")"
   ]
  },
  {
   "cell_type": "code",
   "execution_count": 10,
   "metadata": {},
   "outputs": [
    {
     "data": {
      "text/plain": [
       "<matplotlib.axes._subplots.AxesSubplot at 0x10d4f8d30>"
      ]
     },
     "execution_count": 10,
     "metadata": {},
     "output_type": "execute_result"
    },
    {
     "data": {
      "image/png": "[encoded data removed]",
      "text/plain": [
       "<matplotlib.figure.Figure at 0x10d4f8160>"
      ]
     },
     "metadata": {},
     "output_type": "display_data"
    }
   ],
   "source": [
    "tilegrids.plot(color='blue')"
   ]
  },
  {
   "cell_type": "code",
   "execution_count": 11,
   "metadata": {},
   "outputs": [
    {
     "data": {
      "text/plain": [
       "geopandas.geodataframe.GeoDataFrame"
      ]
     },
     "execution_count": 11,
     "metadata": {},
     "output_type": "execute_result"
    }
   ],
   "source": [
    "type(tilegrids)"
   ]
  },
  {
   "cell_type": "code",
   "execution_count": 8,
   "metadata": {},
   "outputs": [
    {
     "name": "stdout",
     "output_type": "stream",
     "text": [
      "     FID  OBJECTID TILE_NAME  DEL_AREA DOWNTOWN PILOT PRODUCTION  F2015_BLOC  \\\n",
      "0      0         1      1714         1        y     N   OVERSEAS           2   \n",
      "1      1         2      1814         1        y     N   OVERSEAS           2   \n",
      "2      2         3      1914         1        y     N   OVERSEAS           2   \n",
      "3      3         4      2014         1        y     N   OVERSEAS           2   \n",
      "4      4         5      2114         1        y     N   OVERSEAS           2   \n",
      "..   ...       ...       ...       ...      ...   ...        ...         ...   \n",
      "323  323       324      2322         4        N     N   OVERSEAS           3   \n",
      "324  324       325      2422         4        N     N   OVERSEAS           3   \n",
      "325  325       326      2204         2        N     N   OVERSEAS           1   \n",
      "326  326       327      2304         2        N     N   OVERSEAS           1   \n",
      "327  327       328      2203         2        N     N   OVERSEAS           1   \n",
      "\n",
      "       BY8                                                URL  \\\n",
      "0    40000  https://s3.amazonaws.com/dc-lidar-2018/Classif...   \n",
      "1    40000  https://s3.amazonaws.com/dc-lidar-2018/Classif...   \n",
      "2    40000  https://s3.amazonaws.com/dc-lidar-2018/Classif...   \n",
      "3    40000  https://s3.amazonaws.com/dc-lidar-2018/Classif...   \n",
      "4    40000  https://s3.amazonaws.com/dc-lidar-2018/Classif...   \n",
      "..     ...                                                ...   \n",
      "323  40000  https://s3.amazonaws.com/dc-lidar-2018/Classif...   \n",
      "324  40000  https://s3.amazonaws.com/dc-lidar-2018/Classif...   \n",
      "325  40000  https://s3.amazonaws.com/dc-lidar-2018/Classif...   \n",
      "326  40000  https://s3.amazonaws.com/dc-lidar-2018/Classif...   \n",
      "327  40000  https://s3.amazonaws.com/dc-lidar-2018/Classif...   \n",
      "\n",
      "                                              METADATA  Shape_Leng  \\\n",
      "0    https://s3.amazonaws.com/dc-lidar-2018/Classif...        3200   \n",
      "1    https://s3.amazonaws.com/dc-lidar-2018/Classif...        3200   \n",
      "2    https://s3.amazonaws.com/dc-lidar-2018/Classif...        3200   \n",
      "3    https://s3.amazonaws.com/dc-lidar-2018/Classif...        3200   \n",
      "4    https://s3.amazonaws.com/dc-lidar-2018/Classif...        3200   \n",
      "..                                                 ...         ...   \n",
      "323  https://s3.amazonaws.com/dc-lidar-2018/Classif...        3200   \n",
      "324  https://s3.amazonaws.com/dc-lidar-2018/Classif...        3200   \n",
      "325  https://s3.amazonaws.com/dc-lidar-2018/Classif...        3200   \n",
      "326  https://s3.amazonaws.com/dc-lidar-2018/Classif...        3200   \n",
      "327  https://s3.amazonaws.com/dc-lidar-2018/Classif...        3200   \n",
      "\n",
      "     Shape_Area  STATUS                                           geometry  \n",
      "0        640000       2  POLYGON ((-77.06685 38.88643, -77.06685 38.879...  \n",
      "1        640000       2  POLYGON ((-77.05763 38.88643, -77.05763 38.879...  \n",
      "2        640000       2  POLYGON ((-77.04841 38.88644, -77.04841 38.879...  \n",
      "3        640000       2  POLYGON ((-77.03919 38.88644, -77.03919 38.879...  \n",
      "4        640000       2  POLYGON ((-77.02997 38.88644, -77.02997 38.879...  \n",
      "..          ...     ...                                                ...  \n",
      "323      640000       2  POLYGON ((-77.01154 38.94410, -77.01154 38.936...  \n",
      "324      640000       2  POLYGON ((-77.00231 38.94410, -77.00231 38.936...  \n",
      "325      640000       2  POLYGON ((-77.02073 38.81438, -77.02073 38.807...  \n",
      "326      640000       2  POLYGON ((-77.01152 38.81438, -77.01152 38.807...  \n",
      "327      640000       2  POLYGON ((-77.02073 38.80717, -77.02072 38.799...  \n",
      "\n",
      "[328 rows x 15 columns]\n"
     ]
    }
   ],
   "source": [
    "print(tilegrids)"
   ]
  },
  {
   "cell_type": "code",
   "execution_count": 12,
   "metadata": {},
   "outputs": [
    {
     "data": {
      "text/plain": [
       "'https://s3.amazonaws.com/dc-lidar-2018/Classified_LAS/1714.las'"
      ]
     },
     "execution_count": 12,
     "metadata": {},
     "output_type": "execute_result"
    }
   ],
   "source": [
    "tilegrids.loc[0, 'URL']"
   ]
  },
  {
   "cell_type": "code",
   "execution_count": null,
   "metadata": {},
   "outputs": [],
   "source": []
  }
 ],
 "metadata": {
  "kernelspec": {
   "display_name": "Python 3",
   "language": "python",
   "name": "python3"
  },
  "language_info": {
   "codemirror_mode": {
    "name": "ipython",
    "version": 3
   },
   "file_extension": ".py",
   "mimetype": "text/x-python",
   "name": "python",
   "nbconvert_exporter": "python",
   "pygments_lexer": "ipython3",
   "version": "3.6.4"
  }
 },
 "nbformat": 4,
 "nbformat_minor": 2
}
